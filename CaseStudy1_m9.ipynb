{
 "cells": [
  {
   "cell_type": "markdown",
   "metadata": {},
   "source": [
    "# BluEx is a leading logistics company in India.  It's known for efficient delivery of packets to customers.  However BluEx is facing a challenge where its vandrivers are taking a suboptimal path for delivery.  This is causing delays and higher fuel cost.You as ML expert have to create a ML model using Reinforcement Learning so that efficient path is found through the program. "
   ]
  },
  {
   "cell_type": "code",
   "execution_count": 1,
   "metadata": {},
   "outputs": [
    {
     "name": "stdout",
     "output_type": "stream",
     "text": [
      "[[ -1 100  -1  -1   0  -1]\n",
      " [  0 100   0  -1  -1   0]\n",
      " [ -1 100  -1  -1  -1  -1]\n",
      " [ -1  -1  -1  -1  -1   0]\n",
      " [  0  -1  -1  -1  -1   0]\n",
      " [ -1 100  -1   0   0  -1]]\n"
     ]
    }
   ],
   "source": [
    "import numpy as np\n",
    "# R matrix\n",
    "R = np.matrix([ [-1,100,-1,-1,0,-1],\n",
    "               [0,100,0,-1,-1,0],\n",
    "               [-1,100,-1,-1,-1,-1],\n",
    "               [-1,-1,-1,-1,-1,0],\n",
    "               [0,-1,-1,-1,-1,0],\n",
    "               [-1,100,-1,0,0,-1] ])\n",
    "print(R)"
   ]
  },
  {
   "cell_type": "code",
   "execution_count": 2,
   "metadata": {},
   "outputs": [
    {
     "name": "stdout",
     "output_type": "stream",
     "text": [
      "[[0. 0. 0. 0. 0. 0.]\n",
      " [0. 0. 0. 0. 0. 0.]\n",
      " [0. 0. 0. 0. 0. 0.]\n",
      " [0. 0. 0. 0. 0. 0.]\n",
      " [0. 0. 0. 0. 0. 0.]\n",
      " [0. 0. 0. 0. 0. 0.]]\n"
     ]
    }
   ],
   "source": [
    "# Q matrix\n",
    "Q = np.matrix (np.zeros([6,6]))\n",
    "print(Q)\n",
    "# Gamma\n",
    "gamma = 0.8\n",
    "# Initial state\n",
    "initial_state = 5"
   ]
  },
  {
   "cell_type": "code",
   "execution_count": 3,
   "metadata": {},
   "outputs": [],
   "source": [
    "# This function returns all available actions in the state given as an argument\n",
    "def available_actions(state):\n",
    "    current_state_row = R[state,]\n",
    "    av_act = np.where(current_state_row >= 0)[1]\n",
    "    return av_act\n",
    "# Get available actions in the current state\n",
    "available_act = available_actions(initial_state)\n",
    "# This function chooses at random action out of available actions\n",
    "def sample_next_action(available_actions_range):\n",
    "    next_action = int(np.random.choice(available_act,1))\n",
    "    return next_action\n",
    "# Sample next action to be performed\n",
    "action = sample_next_action(available_act)"
   ]
  },
  {
   "cell_type": "code",
   "execution_count": 4,
   "metadata": {},
   "outputs": [
    {
     "name": "stdout",
     "output_type": "stream",
     "text": [
      "[[  0.   0.   0.   0.   0.   0.]\n",
      " [  0.   0.   0.   0.   0.   0.]\n",
      " [  0.   0.   0.   0.   0.   0.]\n",
      " [  0.   0.   0.   0.   0.   0.]\n",
      " [  0.   0.   0.   0.   0.   0.]\n",
      " [  0. 100.   0.   0.   0.   0.]]\n"
     ]
    }
   ],
   "source": [
    "# This function updates the Q matrix according to the path selected and the Q learning algorithm\n",
    "def update(current_state, action, gamma):  \n",
    "    max_index = np.where(Q[action,] == np.max(Q[action,]))[1]\n",
    "    if max_index.shape[0] > 1:\n",
    "        max_index = int(np.random.choice(max_index, size = 1))\n",
    "    else:\n",
    "        max_index = int(max_index)\n",
    "    max_value = Q[action, max_index]   \n",
    "    Q[current_state, action] = R[current_state, action] + gamma * max_value\n",
    "update(initial_state,action,gamma)\n",
    "print(Q)"
   ]
  },
  {
   "cell_type": "code",
   "execution_count": 5,
   "metadata": {},
   "outputs": [
    {
     "name": "stdout",
     "output_type": "stream",
     "text": [
      "[[  0. 500.   0.   0. 320.   0.]\n",
      " [400. 500. 400.   0.   0. 400.]\n",
      " [  0. 500.   0.   0.   0.   0.]\n",
      " [  0.   0.   0.   0.   0. 400.]\n",
      " [400.   0.   0.   0.   0. 400.]\n",
      " [  0. 500.   0. 320. 320.   0.]]\n"
     ]
    }
   ],
   "source": [
    "# Train over 10 000 iterations(Re-iterate the # process above)\n",
    "for i in range(5000):\n",
    "    current_state = np.random.randint(0, int(Q.shape[0]))\n",
    "    available_act = available_actions(current_state)\n",
    "    action = sample_next_action(available_act)\n",
    "    update(current_state,action,gamma)\n",
    "print(Q)"
   ]
  },
  {
   "cell_type": "code",
   "execution_count": 6,
   "metadata": {},
   "outputs": [
    {
     "name": "stdout",
     "output_type": "stream",
     "text": [
      "Trained Q matrix:\n",
      "[[  0. 100.   0.   0.  64.   0.]\n",
      " [ 80. 100.  80.   0.   0.  80.]\n",
      " [  0. 100.   0.   0.   0.   0.]\n",
      " [  0.   0.   0.   0.   0.  80.]\n",
      " [ 80.   0.   0.   0.   0.  80.]\n",
      " [  0. 100.   0.  64.  64.   0.]]\n"
     ]
    }
   ],
   "source": [
    "# Normalize the \"trained\" Q matrix\n",
    "print(\"Trained Q matrix:\")\n",
    "print(Q/np.max(Q)*100)"
   ]
  },
  {
   "cell_type": "code",
   "execution_count": 8,
   "metadata": {},
   "outputs": [
    {
     "name": "stdout",
     "output_type": "stream",
     "text": [
      "Selected path:\n",
      "[3, 5]\n"
     ]
    }
   ],
   "source": [
    "current_state = 3\n",
    "steps = [current_state]\n",
    "while current_state != 5:\n",
    "    next_step_index = np.where(Q[current_state,] == np.max(Q[current_state,]))[1]\n",
    "    if next_step_index.shape[0] > 1:\n",
    "        next_step_index = int(np.random.choice(next_step_index, size=1))\n",
    "    else:\n",
    "        next_step_index = int(next_step_index)\n",
    "    steps.append(next_step_index)\n",
    "    current_state = next_step_index\n",
    "# Print selected sequence of steps\n",
    "print(\"Selected path:\")\n",
    "print(steps)"
   ]
  },
  {
   "cell_type": "code",
   "execution_count": null,
   "metadata": {},
   "outputs": [],
   "source": []
  }
 ],
 "metadata": {
  "kernelspec": {
   "display_name": "Python 3",
   "language": "python",
   "name": "python3"
  },
  "language_info": {
   "codemirror_mode": {
    "name": "ipython",
    "version": 3
   },
   "file_extension": ".py",
   "mimetype": "text/x-python",
   "name": "python",
   "nbconvert_exporter": "python",
   "pygments_lexer": "ipython3",
   "version": "3.6.6"
  }
 },
 "nbformat": 4,
 "nbformat_minor": 2
}
