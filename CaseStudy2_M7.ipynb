{
 "cells": [
  {
   "cell_type": "markdown",
   "metadata": {},
   "source": [
    "Use k-means clustering for image segmentation and to identify dominant color in the image."
   ]
  },
  {
   "cell_type": "markdown",
   "metadata": {},
   "source": [
    "# Open and display the image “dog.jpeg”. Convert the image in to numpy array,so that i can be   used in further processing.[Hint:Use PIL module from python  :: https://www.oreilly.com/library/view/programming-computer-vision/9781449341916/ch01.html]"
   ]
  },
  {
   "cell_type": "code",
   "execution_count": 1,
   "metadata": {},
   "outputs": [],
   "source": [
    "from PIL import Image\n",
    "img = Image.open(\"dogs.jpeg\")\n",
    "img.show()"
   ]
  },
  {
   "cell_type": "markdown",
   "metadata": {},
   "source": [
    "# Find out the dimensions of the image and convert it in to a two-dimensional array"
   ]
  },
  {
   "cell_type": "code",
   "execution_count": 2,
   "metadata": {},
   "outputs": [
    {
     "name": "stdout",
     "output_type": "stream",
     "text": [
      "Width:: 272\n",
      "Height:: 185\n",
      "(185, 272, 3)\n"
     ]
    },
    {
     "data": {
      "text/plain": [
       "(50320, 3)"
      ]
     },
     "execution_count": 2,
     "metadata": {},
     "output_type": "execute_result"
    }
   ],
   "source": [
    "width, height = img.size\n",
    "print(\"Width::\", width)\n",
    "print(\"Height::\", height)\n",
    "\n",
    "import numpy\n",
    "image_array = numpy.asarray(img)\n",
    "print(image_array.shape)\n",
    "#x,y,z = image_array.shape\n",
    "#for j in image_array:\n",
    "#    image_2D_array = numpy.asarray([[i[0],i[1]] for i in j]) # image_2D_array gets the two first pixel values\n",
    "#x,y = image_2D_array.shape\n",
    "#print(image_2D_array.shape)\n",
    "#print(image_2D_array)\n",
    "\n",
    "x, y, z = image_array.shape\n",
    "image_2D_array = image_array.reshape(x*y, z)\n",
    "image_2D_array.shape"
   ]
  },
  {
   "cell_type": "markdown",
   "metadata": {},
   "source": [
    "# Use kmeans clustering with k set to 3 and cluster the image.[Hint: Refer to k-means module of scikit learn]"
   ]
  },
  {
   "cell_type": "code",
   "execution_count": 3,
   "metadata": {},
   "outputs": [
    {
     "data": {
      "text/plain": [
       "KMeans(algorithm='auto', copy_x=True, init='k-means++', max_iter=300,\n",
       "    n_clusters=4, n_init=10, n_jobs=None, precompute_distances='auto',\n",
       "    random_state=None, tol=0.0001, verbose=0)"
      ]
     },
     "execution_count": 3,
     "metadata": {},
     "output_type": "execute_result"
    }
   ],
   "source": [
    "# applying model\n",
    "from sklearn.cluster import KMeans\n",
    "kMeans = KMeans(n_clusters = 3)\n",
    "kMeans.fit(image_2D_array)"
   ]
  },
  {
   "cell_type": "markdown",
   "metadata": {},
   "source": [
    "# Predict the cluster label of every pixel in the image and plot it back as an image."
   ]
  },
  {
   "cell_type": "code",
   "execution_count": 6,
   "metadata": {},
   "outputs": [
    {
     "name": "stdout",
     "output_type": "stream",
     "text": [
      "[2 2 2 ... 2 2 2]\n",
      "50320\n"
     ]
    },
    {
     "data": {
      "text/plain": [
       "<matplotlib.image.AxesImage at 0x49388ffa90>"
      ]
     },
     "execution_count": 6,
     "metadata": {},
     "output_type": "execute_result"
    },
    {
     "data": {
      "image/png": "[encoded data removed]",
      "text/plain": [
       "<Figure size 1080x576 with 1 Axes>"
      ]
     },
     "metadata": {
      "needs_background": "light"
     },
     "output_type": "display_data"
    }
   ],
   "source": [
    "print(kMeans.labels_)\n",
    "print(len(kMeans.labels_))\n",
    "\n",
    "import matplotlib.pyplot as plt\n",
    "plt.figure(figsize = (15,8))\n",
    "plt.imshow(kMeans.cluster_centers_[kMeans.labels_].reshape(x,y,z).astype(numpy.uint8))\n"
   ]
  },
  {
   "cell_type": "markdown",
   "metadata": {},
   "source": [
    "# Find out the three dominant color in the image.[Hint: The cluster centers should correspond to three dominant colors]"
   ]
  },
  {
   "cell_type": "code",
   "execution_count": 5,
   "metadata": {},
   "outputs": [
    {
     "data": {
      "text/plain": [
       "array([[219.15504198, 184.16751185, 152.70687505],\n",
       "       [ 19.17887875,  13.5059322 ,  13.53637549],\n",
       "       [252.1428041 , 249.31377646, 245.7958729 ],\n",
       "       [100.84219512,  77.4204878 ,  66.36536585]])"
      ]
     },
     "execution_count": 5,
     "metadata": {},
     "output_type": "execute_result"
    }
   ],
   "source": [
    "#cluster vectors\n",
    "kMeans.cluster_centers_"
   ]
  }
 ],
 "metadata": {
  "kernelspec": {
   "display_name": "Python 3",
   "language": "python",
   "name": "python3"
  },
  "language_info": {
   "codemirror_mode": {
    "name": "ipython",
    "version": 3
   },
   "file_extension": ".py",
   "mimetype": "text/x-python",
   "name": "python",
   "nbconvert_exporter": "python",
   "pygments_lexer": "ipython3",
   "version": "3.6.6"
  }
 },
 "nbformat": 4,
 "nbformat_minor": 2
}
