{
 "cells": [
  {
   "cell_type": "markdown",
   "metadata": {},
   "source": [
    "Business challenge/requirement\n",
    "\n",
    "Lithionpower is the largest provider of electric vehicle(e-vehicle) batteries.  It provides battery on a rental model to e-\n",
    "vehicle drivers. Drivers rent battery typically for a day and then replace it with a charged battery from the company. \n",
    "Lithionpower has a variable pricing model based on driver's driving history. As the life of a battery depends on factors such as overspeeding, distance driven per day etc.\n",
    "You as a ML expert have  to create a cluster model where drivers can be grouped together based on the driving data.\n",
    "\n",
    "Key issues\n",
    "Drivers will be incentivized based on the cluster, so grouping has to be accurate \n",
    "\n",
    "Considerations\n",
    "NONE\n",
    "\n",
    "Data volume -\n",
    "4000 records – file driver-data.csv\n",
    "\n",
    "Fields in Data\n",
    "•id: Unique Id of the driver \n",
    "•mean_dist_day: Mean distance driven by driver per day\n",
    "•mean_over_speed_perc: Mean percentage of time a driver was > 5 mph over \n",
    "the speed limit\n",
    "\n",
    "Additional information-\n",
    "NA\n",
    "Business benefits\n",
    "Increase in profits,up to 15-20% as drivers with poor history will be charged more"
   ]
  },
  {
   "cell_type": "code",
   "execution_count": 1,
   "metadata": {},
   "outputs": [
    {
     "data": {
      "text/html": [
       "<div>\n",
       "<style scoped>\n",
       "    .dataframe tbody tr th:only-of-type {\n",
       "        vertical-align: middle;\n",
       "    }\n",
       "\n",
       "    .dataframe tbody tr th {\n",
       "        vertical-align: top;\n",
       "    }\n",
       "\n",
       "    .dataframe thead th {\n",
       "        text-align: right;\n",
       "    }\n",
       "</style>\n",
       "<table border=\"1\" class=\"dataframe\">\n",
       "  <thead>\n",
       "    <tr style=\"text-align: right;\">\n",
       "      <th></th>\n",
       "      <th>id</th>\n",
       "      <th>mean_dist_day</th>\n",
       "      <th>mean_over_speed_perc</th>\n",
       "    </tr>\n",
       "  </thead>\n",
       "  <tbody>\n",
       "    <tr>\n",
       "      <th>0</th>\n",
       "      <td>3423311935</td>\n",
       "      <td>71.24</td>\n",
       "      <td>28</td>\n",
       "    </tr>\n",
       "    <tr>\n",
       "      <th>1</th>\n",
       "      <td>3423313212</td>\n",
       "      <td>52.53</td>\n",
       "      <td>25</td>\n",
       "    </tr>\n",
       "    <tr>\n",
       "      <th>2</th>\n",
       "      <td>3423313724</td>\n",
       "      <td>64.54</td>\n",
       "      <td>27</td>\n",
       "    </tr>\n",
       "    <tr>\n",
       "      <th>3</th>\n",
       "      <td>3423311373</td>\n",
       "      <td>55.69</td>\n",
       "      <td>22</td>\n",
       "    </tr>\n",
       "    <tr>\n",
       "      <th>4</th>\n",
       "      <td>3423310999</td>\n",
       "      <td>54.58</td>\n",
       "      <td>25</td>\n",
       "    </tr>\n",
       "  </tbody>\n",
       "</table>\n",
       "</div>"
      ],
      "text/plain": [
       "           id  mean_dist_day  mean_over_speed_perc\n",
       "0  3423311935          71.24                    28\n",
       "1  3423313212          52.53                    25\n",
       "2  3423313724          64.54                    27\n",
       "3  3423311373          55.69                    22\n",
       "4  3423310999          54.58                    25"
      ]
     },
     "execution_count": 1,
     "metadata": {},
     "output_type": "execute_result"
    }
   ],
   "source": [
    "# read data\n",
    "\n",
    "import pandas as pd\n",
    "import numpy as np\n",
    "import matplotlib.pyplot as plt\n",
    "\n",
    "df = pd.read_csv(\"driver-data.csv\")\n",
    "df.head()"
   ]
  },
  {
   "cell_type": "code",
   "execution_count": 2,
   "metadata": {},
   "outputs": [],
   "source": [
    "# use elbow method to get hyperparameter - number of cluster\n",
    "from sklearn import metrics\n",
    "from scipy.spatial.distance import cdist\n",
    "from sklearn.cluster import KMeans"
   ]
  },
  {
   "cell_type": "code",
   "execution_count": 3,
   "metadata": {},
   "outputs": [
    {
     "data": {
      "image/png": "[encoded data removed]",
      "text/plain": [
       "<Figure size 432x288 with 1 Axes>"
      ]
     },
     "metadata": {
      "needs_background": "light"
     },
     "output_type": "display_data"
    }
   ],
   "source": [
    "f1 = df['mean_dist_day'].values\n",
    "f2 = df['mean_over_speed_perc'].values\n",
    "\n",
    "X = np.array(list(zip(f1,f2)))\n",
    "\n",
    "colors = ['b','g','r']\n",
    "markers = ['o','v','s']\n",
    "\n",
    "distortions = []\n",
    "K = range(1,10)\n",
    "\n",
    "for k in K:\n",
    "    kMeansModel = KMeans(n_clusters = k).fit(X)\n",
    "    kMeansModel.fit(X)\n",
    "    distortions.append(sum(np.min(cdist(X,kMeansModel.cluster_centers_,'euclidean'),axis = 1))/X.shape[0])\n",
    "    \n",
    "#plot the elbow\n",
    "plt.plot(K, distortions,'bx-')\n",
    "plt.xlabel('k')\n",
    "plt.ylabel('Distortion')\n",
    "plt.title('The elbow method showing the optimal K')\n",
    "plt.show()"
   ]
  },
  {
   "cell_type": "code",
   "execution_count": 6,
   "metadata": {},
   "outputs": [
    {
     "name": "stdout",
     "output_type": "stream",
     "text": [
      "[0 0 0 ... 1 1 1]\n",
      "4000\n",
      "0       0\n",
      "1       0\n",
      "2       0\n",
      "3       0\n",
      "4       0\n",
      "5       0\n",
      "6       0\n",
      "7       0\n",
      "8       0\n",
      "9       0\n",
      "10      0\n",
      "11      0\n",
      "12      0\n",
      "13      0\n",
      "14      0\n",
      "15      0\n",
      "16      0\n",
      "17      0\n",
      "18      0\n",
      "19      0\n",
      "20      0\n",
      "21      0\n",
      "22      0\n",
      "23      0\n",
      "24      0\n",
      "25      0\n",
      "26      0\n",
      "27      0\n",
      "28      0\n",
      "29      0\n",
      "       ..\n",
      "3970    1\n",
      "3971    1\n",
      "3972    1\n",
      "3973    1\n",
      "3974    1\n",
      "3975    1\n",
      "3976    1\n",
      "3977    1\n",
      "3978    1\n",
      "3979    1\n",
      "3980    1\n",
      "3981    1\n",
      "3982    1\n",
      "3983    1\n",
      "3984    1\n",
      "3985    1\n",
      "3986    1\n",
      "3987    1\n",
      "3988    1\n",
      "3989    1\n",
      "3990    1\n",
      "3991    1\n",
      "3992    1\n",
      "3993    1\n",
      "3994    1\n",
      "3995    1\n",
      "3996    1\n",
      "3997    1\n",
      "3998    1\n",
      "3999    1\n",
      "Name: clusters, Length: 4000, dtype: int32\n"
     ]
    }
   ],
   "source": [
    "# applying model\n",
    "kMeans = KMeans(n_clusters = 2)\n",
    "kMeans.fit(X)\n",
    "#cluster vectors\n",
    "kMeans.cluster_centers_\n",
    "\n",
    "print(kMeans.labels_)\n",
    "print(len(kMeans.labels_))\n",
    "df['clusters'] = kMeans.labels_\n",
    "print(df['clusters'])"
   ]
  },
  {
   "cell_type": "code",
   "execution_count": null,
   "metadata": {},
   "outputs": [],
   "source": []
  }
 ],
 "metadata": {
  "kernelspec": {
   "display_name": "Python 3",
   "language": "python",
   "name": "python3"
  },
  "language_info": {
   "codemirror_mode": {
    "name": "ipython",
    "version": 3
   },
   "file_extension": ".py",
   "mimetype": "text/x-python",
   "name": "python",
   "nbconvert_exporter": "python",
   "pygments_lexer": "ipython3",
   "version": "3.7.0"
  }
 },
 "nbformat": 4,
 "nbformat_minor": 2
}
